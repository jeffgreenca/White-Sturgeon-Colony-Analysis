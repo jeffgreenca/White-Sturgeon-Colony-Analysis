{
  "nbformat": 4,
  "nbformat_minor": 0,
  "metadata": {
    "colab": {
      "name": "Colony-Analysis.ipynb",
      "version": "0.3.2",
      "provenance": [],
      "collapsed_sections": [
        "yxmCGnH8S1gk"
      ]
    },
    "kernelspec": {
      "name": "python3",
      "display_name": "Python 3"
    }
  },
  "cells": [
    {
      "cell_type": "markdown",
      "metadata": {
        "id": "view-in-github",
        "colab_type": "text"
      },
      "source": [
        "[View in Colaboratory](https://colab.research.google.com/github/jeffgreenca/White-Sturgeon-Colony-Analysis/blob/master/Colony_Analysis.ipynb)"
      ]
    },
    {
      "metadata": {
        "id": "6yxZ1c4PFwuQ",
        "colab_type": "text"
      },
      "cell_type": "markdown",
      "source": [
        "# Analysis of Colony output\n",
        "\n",
        "This notebook takes Colony simulation results as input, generated using simulated data, and performs a series of data analysis steps to evaluate performance of the Colony application.  The simulation data contains unique identifiers allowing the \"correct\" answers to be reconstructed by examining the individual member's name:\n",
        "\n",
        "* `AxB-#` where `A` is one parent, `B` is the other parent, and `#` is the ID of this individual."
      ]
    },
    {
      "metadata": {
        "id": "yxmCGnH8S1gk",
        "colab_type": "text"
      },
      "cell_type": "markdown",
      "source": [
        "# Data Load - OK to hide this part!"
      ]
    },
    {
      "metadata": {
        "id": "OAc2x8XdTFRX",
        "colab_type": "code",
        "colab": {
          "base_uri": "https://localhost:8080/",
          "height": 10
        },
        "outputId": "2074a2e2-6d51-4e0f-9186-032ef2d3957c"
      },
      "cell_type": "code",
      "source": [
        "%pylab inline"
      ],
      "execution_count": 26,
      "outputs": [
        {
          "output_type": "stream",
          "text": [
            "Populating the interactive namespace from numpy and matplotlib\n"
          ],
          "name": "stdout"
        },
        {
          "output_type": "stream",
          "text": [
            "/usr/local/lib/python3.6/dist-packages/IPython/core/magics/pylab.py:161: UserWarning: pylab import has clobbered these variables: ['title', 'f']\n",
            "`%matplotlib` prevents importing * from pylab and numpy\n",
            "  \"\\n`%matplotlib` prevents importing * from pylab and numpy\"\n"
          ],
          "name": "stderr"
        }
      ]
    },
    {
      "metadata": {
        "id": "Qbku1083FwTW",
        "colab_type": "text"
      },
      "cell_type": "markdown",
      "source": [
        "## Import data from GitHub repository to this notebook\n",
        "Download the Colony output data set by cloning from GitHub."
      ]
    },
    {
      "metadata": {
        "id": "d9FKbTieFRmE",
        "colab_type": "code",
        "colab": {
          "base_uri": "https://localhost:8080/",
          "height": 10
        },
        "outputId": "7c8d005c-5a2e-415c-f904-a9f146c37d99"
      },
      "cell_type": "code",
      "source": [
        "!git clone https://github.com/jeffgreenca/White-Sturgeon-Colony.git"
      ],
      "execution_count": 27,
      "outputs": [
        {
          "output_type": "stream",
          "text": [
            "fatal: destination path 'White-Sturgeon-Colony' already exists and is not an empty directory.\r\n"
          ],
          "name": "stdout"
        }
      ]
    },
    {
      "metadata": {
        "id": "bkgED-aQFow9",
        "colab_type": "code",
        "colab": {
          "base_uri": "https://localhost:8080/",
          "height": 10
        },
        "outputId": "7d5706b8-3b36-4388-9ea4-71e51a6f2b25"
      },
      "cell_type": "code",
      "source": [
        "# Obtain a list of all the Colony full-sibling family files, the output \n",
        "# of each simulation run.\n",
        "from glob import glob\n",
        "files = glob('White-Sturgeon-Colony/FSFamily-Files/*/*.BestFSFamily')\n",
        "len(files)"
      ],
      "execution_count": 28,
      "outputs": [
        {
          "output_type": "execute_result",
          "data": {
            "text/plain": [
              "500"
            ]
          },
          "metadata": {
            "tags": []
          },
          "execution_count": 28
        }
      ]
    },
    {
      "metadata": {
        "id": "Y5UKlQSnIfL0",
        "colab_type": "text"
      },
      "cell_type": "markdown",
      "source": [
        "## Load data from all the text files into a single DataFrame\n",
        "\n",
        "I define a function that parses the Colony output text file into structured data, in the form of a Pandas DataFrame.  Then, loop over all the files in the imported data, appending to a single dataframe.  This loads all our available data into one place."
      ]
    },
    {
      "metadata": {
        "id": "sAOt5_tSIBgM",
        "colab_type": "code",
        "colab": {
          "base_uri": "https://localhost:8080/",
          "height": 10
        },
        "outputId": "50d02d0d-68b2-4e2e-be53-3eb1baa512dc"
      },
      "cell_type": "code",
      "source": [
        "import pandas as pd\n",
        "\n",
        "def parse_file(f):\n",
        "    \"\"\"Load a .BestFSFamily file into a DataFrame\"\"\"\n",
        "\n",
        "    ## Data Parsing...\n",
        "    # Load space-separated data into our structured format\n",
        "    df = pd.read_csv(f, sep='\\s+', engine='python')\n",
        "\n",
        "    # Standardize the column name for the field listing family members\n",
        "    memberColName = df.columns[-1]\n",
        "    df.rename(columns={memberColName: 'Members_raw'}, inplace=True)\n",
        "\n",
        "    # Reorder family Members into a sorted tuple by splitting on comma\n",
        "    df['Members'] = df['Members_raw'].apply(lambda m: \n",
        "                                            tuple(sorted(m.split(','))))\n",
        "\n",
        "    ## Data Set Identification fields...\n",
        "    # Add the entire path to the source file\n",
        "    df['sourcefile'] = f\n",
        "\n",
        "    # Label each row with the significant part of the source filename\n",
        "    df['source'] = f.partition('output')[-1].partition('.')[0]\n",
        "\n",
        "    # Label each row with the Nb/sim number, so we can group each\n",
        "    # set of simulated data together for analysis.\n",
        "    df['Nb_index'] = [x.split('_')[0] for x in df['source']]   \n",
        "    return df\n",
        "  \n",
        "# Loop over our available dataset files, appending to a dataframe\n",
        "df = pd.DataFrame()\n",
        "for f in files:\n",
        "  df = df.append(parse_file(f))\n",
        "\n",
        "print(\"Loaded %s files, containing %s rows of family groupings.\"\n",
        "      % (len(files), len(df)))"
      ],
      "execution_count": 29,
      "outputs": [
        {
          "output_type": "stream",
          "text": [
            "Loaded 500 files, containing 20011 rows of family groupings.\n"
          ],
          "name": "stdout"
        }
      ]
    },
    {
      "metadata": {
        "id": "2KfcTeAXD-Fb",
        "colab_type": "code",
        "colab": {
          "base_uri": "https://localhost:8080/",
          "height": 10
        },
        "outputId": "a1e1b2c6-fd31-4801-ee72-a303ac4f138c"
      },
      "cell_type": "code",
      "source": [
        "df[['Prob(Inc.)','Prob(Exc.)','Members','sourcefile','Nb_index']].sample(5)"
      ],
      "execution_count": 30,
      "outputs": [
        {
          "output_type": "execute_result",
          "data": {
            "text/html": [
              "<div>\n",
              "<style scoped>\n",
              "    .dataframe tbody tr th:only-of-type {\n",
              "        vertical-align: middle;\n",
              "    }\n",
              "\n",
              "    .dataframe tbody tr th {\n",
              "        vertical-align: top;\n",
              "    }\n",
              "\n",
              "    .dataframe thead th {\n",
              "        text-align: right;\n",
              "    }\n",
              "</style>\n",
              "<table border=\"1\" class=\"dataframe\">\n",
              "  <thead>\n",
              "    <tr style=\"text-align: right;\">\n",
              "      <th></th>\n",
              "      <th>Prob(Inc.)</th>\n",
              "      <th>Prob(Exc.)</th>\n",
              "      <th>Members</th>\n",
              "      <th>sourcefile</th>\n",
              "      <th>Nb_index</th>\n",
              "    </tr>\n",
              "  </thead>\n",
              "  <tbody>\n",
              "    <tr>\n",
              "      <th>30</th>\n",
              "      <td>1.0000</td>\n",
              "      <td>0.2015</td>\n",
              "      <td>(3x45-47,)</td>\n",
              "      <td>White-Sturgeon-Colony/FSFamily-Files/Nb29 FSfa...</td>\n",
              "      <td>Nb29sim</td>\n",
              "    </tr>\n",
              "    <tr>\n",
              "      <th>17</th>\n",
              "      <td>1.0000</td>\n",
              "      <td>0.1722</td>\n",
              "      <td>(14x66-18,)</td>\n",
              "      <td>White-Sturgeon-Colony/FSFamily-Files/Nb50 FSfa...</td>\n",
              "      <td>Nb50sim</td>\n",
              "    </tr>\n",
              "    <tr>\n",
              "      <th>8</th>\n",
              "      <td>0.2082</td>\n",
              "      <td>0.0176</td>\n",
              "      <td>(9x58-15, 9x58-16, 9x58-17)</td>\n",
              "      <td>White-Sturgeon-Colony/FSFamily-Files/Nb29 FSfa...</td>\n",
              "      <td>Nb29sim</td>\n",
              "    </tr>\n",
              "    <tr>\n",
              "      <th>26</th>\n",
              "      <td>0.8777</td>\n",
              "      <td>0.4541</td>\n",
              "      <td>(4x36-35, 4x36-37)</td>\n",
              "      <td>White-Sturgeon-Colony/FSFamily-Files/Nb30 FSfa...</td>\n",
              "      <td>Nb30sim</td>\n",
              "    </tr>\n",
              "    <tr>\n",
              "      <th>0</th>\n",
              "      <td>0.9304</td>\n",
              "      <td>0.2207</td>\n",
              "      <td>(42x43-1, 42x43-2)</td>\n",
              "      <td>White-Sturgeon-Colony/FSFamily-Files/Nb31 FSfa...</td>\n",
              "      <td>Nb31sim</td>\n",
              "    </tr>\n",
              "  </tbody>\n",
              "</table>\n",
              "</div>"
            ],
            "text/plain": [
              "    Prob(Inc.)  Prob(Exc.)                      Members  \\\n",
              "30      1.0000      0.2015                   (3x45-47,)   \n",
              "17      1.0000      0.1722                  (14x66-18,)   \n",
              "8       0.2082      0.0176  (9x58-15, 9x58-16, 9x58-17)   \n",
              "26      0.8777      0.4541           (4x36-35, 4x36-37)   \n",
              "0       0.9304      0.2207           (42x43-1, 42x43-2)   \n",
              "\n",
              "                                           sourcefile Nb_index  \n",
              "30  White-Sturgeon-Colony/FSFamily-Files/Nb29 FSfa...  Nb29sim  \n",
              "17  White-Sturgeon-Colony/FSFamily-Files/Nb50 FSfa...  Nb50sim  \n",
              "8   White-Sturgeon-Colony/FSFamily-Files/Nb29 FSfa...  Nb29sim  \n",
              "26  White-Sturgeon-Colony/FSFamily-Files/Nb30 FSfa...  Nb30sim  \n",
              "0   White-Sturgeon-Colony/FSFamily-Files/Nb31 FSfa...  Nb31sim  "
            ]
          },
          "metadata": {
            "tags": []
          },
          "execution_count": 30
        }
      ]
    },
    {
      "metadata": {
        "id": "LFCN3aS_PBFA",
        "colab_type": "text"
      },
      "cell_type": "markdown",
      "source": [
        "## A note on how Colony orders of Members in a family\n",
        "\n",
        "To determine if Colony outputs family members in a consistent order for every occurance of the same group of members (is ABC always ordered ABC, or sometimes BAC?), we can count the number of unique values for the Members vs. the Members_raw fields.  Since Members is a sorted version of Members_raw, if the number of unique family groupings is different for each field, then this would indicate Colony is inconsistent in ordering."
      ]
    },
    {
      "metadata": {
        "id": "nS47LHlxTikd",
        "colab_type": "code",
        "colab": {
          "base_uri": "https://localhost:8080/",
          "height": 10
        },
        "outputId": "46588229-c50b-4494-82cf-fb2c4e4e7111"
      },
      "cell_type": "code",
      "source": [
        "# Compare the count of unique family groupings, for the sorted list of members\n",
        "# and the unsorted list.  This indicates if Colony always orders families in\n",
        "# the same way, or if sometimes members appear in different orders.\n",
        "len(df.groupby('Members').Members), len(df.groupby('Members_raw').Members_raw)"
      ],
      "execution_count": 31,
      "outputs": [
        {
          "output_type": "execute_result",
          "data": {
            "text/plain": [
              "(311, 311)"
            ]
          },
          "metadata": {
            "tags": []
          },
          "execution_count": 31
        }
      ]
    },
    {
      "metadata": {
        "id": "4d5fAm5aDZRB",
        "colab_type": "text"
      },
      "cell_type": "markdown",
      "source": [
        "From the above grouping, we can determine that in this dataset, Colony always places members in the same order.  So a family of members A, B, and C, appearing as a group ABC, will never appear in the order CAB.  This means that for this dataset, sorting the members in each family is an unecessary step (but it takes nearly no time, so might as well do it to be safe)."
      ]
    },
    {
      "metadata": {
        "id": "Vkvj_d4HQCqr",
        "colab_type": "text"
      },
      "cell_type": "markdown",
      "source": [
        "## Add calculated fields for analysis\n",
        "\n",
        "To aid in analysis, I define several new fields that are calculated from the dataset and applied to each row.  For example, a field that determines if the Members in a row are actually full siblings, based on extracting the parent IDs from each member and comparing them."
      ]
    },
    {
      "metadata": {
        "id": "LVBITGqoCop1",
        "colab_type": "code",
        "colab": {
          "base_uri": "https://localhost:8080/",
          "height": 10
        },
        "outputId": "ace498c6-8c5c-4d8d-84a7-b621485d4a1f"
      },
      "cell_type": "code",
      "source": [
        "# Analysis Functions\n",
        "def allFullSiblings(members):\n",
        "    \"\"\"Determine if all members have the same two parents.  \n",
        "    Note: Returns True for single member families.\"\"\"\n",
        "    # List all the pairs of parents\n",
        "    parentpairs = [x.partition('-')[0] for x in members if x]\n",
        "    # Reshape to a 1D list of each parent ID\n",
        "    parents = []\n",
        "    for pair in parentpairs:\n",
        "        parents.extend(pair.split('x'))\n",
        "    # All are siblings if only 2 unique parent IDs found\n",
        "    return len(set(parents)) == 2\n",
        "\n",
        "def add_analysis(df):\n",
        "    \"\"\"Computes and adds columns for each row, such as family_size.\"\"\"\n",
        "    df['allFullSiblings'] = df['Members'].apply(allFullSiblings)\n",
        "    df['family_size'] = df['Members'].apply(lambda x: len(x))\n",
        "    return df\n",
        "\n",
        "df = add_analysis(df)\n",
        "\n",
        "# Display a sample subset to demonstrate the added calculated fields\n",
        "cols = ['FullSibshipIndex','Prob(Inc.)','Prob(Exc.)','Members',\n",
        "        'source','Nb_index','allFullSiblings','family_size']\n",
        "df[cols].sample(3, random_state=25)"
      ],
      "execution_count": 32,
      "outputs": [
        {
          "output_type": "execute_result",
          "data": {
            "text/html": [
              "<div>\n",
              "<style scoped>\n",
              "    .dataframe tbody tr th:only-of-type {\n",
              "        vertical-align: middle;\n",
              "    }\n",
              "\n",
              "    .dataframe tbody tr th {\n",
              "        vertical-align: top;\n",
              "    }\n",
              "\n",
              "    .dataframe thead th {\n",
              "        text-align: right;\n",
              "    }\n",
              "</style>\n",
              "<table border=\"1\" class=\"dataframe\">\n",
              "  <thead>\n",
              "    <tr style=\"text-align: right;\">\n",
              "      <th></th>\n",
              "      <th>FullSibshipIndex</th>\n",
              "      <th>Prob(Inc.)</th>\n",
              "      <th>Prob(Exc.)</th>\n",
              "      <th>Members</th>\n",
              "      <th>source</th>\n",
              "      <th>Nb_index</th>\n",
              "      <th>allFullSiblings</th>\n",
              "      <th>family_size</th>\n",
              "    </tr>\n",
              "  </thead>\n",
              "  <tbody>\n",
              "    <tr>\n",
              "      <th>45</th>\n",
              "      <td>46</td>\n",
              "      <td>1.0000</td>\n",
              "      <td>0.1762</td>\n",
              "      <td>(13x10-53,)</td>\n",
              "      <td>Nb50sim_55_34</td>\n",
              "      <td>Nb50sim</td>\n",
              "      <td>True</td>\n",
              "      <td>1</td>\n",
              "    </tr>\n",
              "    <tr>\n",
              "      <th>18</th>\n",
              "      <td>19</td>\n",
              "      <td>0.7467</td>\n",
              "      <td>0.0797</td>\n",
              "      <td>(13x26-22, 13x26-28)</td>\n",
              "      <td>Nb31sim_55_61</td>\n",
              "      <td>Nb31sim</td>\n",
              "      <td>True</td>\n",
              "      <td>2</td>\n",
              "    </tr>\n",
              "    <tr>\n",
              "      <th>41</th>\n",
              "      <td>42</td>\n",
              "      <td>1.0000</td>\n",
              "      <td>0.1077</td>\n",
              "      <td>(30x27-55,)</td>\n",
              "      <td>Nb31sim_55_77</td>\n",
              "      <td>Nb31sim</td>\n",
              "      <td>True</td>\n",
              "      <td>1</td>\n",
              "    </tr>\n",
              "  </tbody>\n",
              "</table>\n",
              "</div>"
            ],
            "text/plain": [
              "    FullSibshipIndex  Prob(Inc.)  Prob(Exc.)               Members  \\\n",
              "45                46      1.0000      0.1762           (13x10-53,)   \n",
              "18                19      0.7467      0.0797  (13x26-22, 13x26-28)   \n",
              "41                42      1.0000      0.1077           (30x27-55,)   \n",
              "\n",
              "           source Nb_index  allFullSiblings  family_size  \n",
              "45  Nb50sim_55_34  Nb50sim             True            1  \n",
              "18  Nb31sim_55_61  Nb31sim             True            2  \n",
              "41  Nb31sim_55_77  Nb31sim             True            1  "
            ]
          },
          "metadata": {
            "tags": []
          },
          "execution_count": 32
        }
      ]
    },
    {
      "metadata": {
        "id": "IbATnZPIQ55C",
        "colab_type": "text"
      },
      "cell_type": "markdown",
      "source": [
        "We've added calculated columns, `allFullSiblings` and `family_size`, that describe the quality of the `Members` field.  Full siblings share the same parents, so `42x16-#` and `42x27-#` are half-siblings, sharing only parent `42`, therefore the `allFullSiblings=False` for that row."
      ]
    },
    {
      "metadata": {
        "id": "VMDp35xnRemE",
        "colab_type": "text"
      },
      "cell_type": "markdown",
      "source": [
        "# Analysis"
      ]
    },
    {
      "metadata": {
        "id": "vpSRdJtKTPVH",
        "colab_type": "text"
      },
      "cell_type": "markdown",
      "source": [
        "## Explanation of Loaded Data"
      ]
    },
    {
      "metadata": {
        "id": "bMsXEw-NTWij",
        "colab_type": "code",
        "colab": {
          "base_uri": "https://localhost:8080/",
          "height": 355
        },
        "outputId": "98e74def-4435-42f6-82cb-fd8e88c3811f"
      },
      "cell_type": "code",
      "source": [
        "# Dislpay a random sample of the \"important\" columns\n",
        "\n",
        "df[['FullSibshipIndex','Prob(Inc.)','Prob(Exc.)',\n",
        "    'Members','source','Nb_index','allFullSiblings',\n",
        "    'family_size']].sample(10, random_state=42).sort_index().reindex()"
      ],
      "execution_count": 33,
      "outputs": [
        {
          "output_type": "execute_result",
          "data": {
            "text/html": [
              "<div>\n",
              "<style scoped>\n",
              "    .dataframe tbody tr th:only-of-type {\n",
              "        vertical-align: middle;\n",
              "    }\n",
              "\n",
              "    .dataframe tbody tr th {\n",
              "        vertical-align: top;\n",
              "    }\n",
              "\n",
              "    .dataframe thead th {\n",
              "        text-align: right;\n",
              "    }\n",
              "</style>\n",
              "<table border=\"1\" class=\"dataframe\">\n",
              "  <thead>\n",
              "    <tr style=\"text-align: right;\">\n",
              "      <th></th>\n",
              "      <th>FullSibshipIndex</th>\n",
              "      <th>Prob(Inc.)</th>\n",
              "      <th>Prob(Exc.)</th>\n",
              "      <th>Members</th>\n",
              "      <th>source</th>\n",
              "      <th>Nb_index</th>\n",
              "      <th>allFullSiblings</th>\n",
              "      <th>family_size</th>\n",
              "    </tr>\n",
              "  </thead>\n",
              "  <tbody>\n",
              "    <tr>\n",
              "      <th>8</th>\n",
              "      <td>9</td>\n",
              "      <td>1.0000</td>\n",
              "      <td>0.0609</td>\n",
              "      <td>(63x20-11,)</td>\n",
              "      <td>Nb10sim_55_9</td>\n",
              "      <td>Nb10sim</td>\n",
              "      <td>True</td>\n",
              "      <td>1</td>\n",
              "    </tr>\n",
              "    <tr>\n",
              "      <th>12</th>\n",
              "      <td>13</td>\n",
              "      <td>1.0000</td>\n",
              "      <td>0.1147</td>\n",
              "      <td>(6x10-25,)</td>\n",
              "      <td>Nb29sim_55_40</td>\n",
              "      <td>Nb29sim</td>\n",
              "      <td>True</td>\n",
              "      <td>1</td>\n",
              "    </tr>\n",
              "    <tr>\n",
              "      <th>14</th>\n",
              "      <td>15</td>\n",
              "      <td>1.0000</td>\n",
              "      <td>0.1570</td>\n",
              "      <td>(55x58-15,)</td>\n",
              "      <td>Nb50sim_55_91</td>\n",
              "      <td>Nb50sim</td>\n",
              "      <td>True</td>\n",
              "      <td>1</td>\n",
              "    </tr>\n",
              "    <tr>\n",
              "      <th>18</th>\n",
              "      <td>19</td>\n",
              "      <td>1.0000</td>\n",
              "      <td>0.1458</td>\n",
              "      <td>(24x53-20,)</td>\n",
              "      <td>Nb50sim_55_18</td>\n",
              "      <td>Nb50sim</td>\n",
              "      <td>True</td>\n",
              "      <td>1</td>\n",
              "    </tr>\n",
              "    <tr>\n",
              "      <th>21</th>\n",
              "      <td>22</td>\n",
              "      <td>1.0000</td>\n",
              "      <td>0.0629</td>\n",
              "      <td>(20x66-31,)</td>\n",
              "      <td>Nb10sim_55_22</td>\n",
              "      <td>Nb10sim</td>\n",
              "      <td>True</td>\n",
              "      <td>1</td>\n",
              "    </tr>\n",
              "    <tr>\n",
              "      <th>23</th>\n",
              "      <td>24</td>\n",
              "      <td>0.8561</td>\n",
              "      <td>0.5585</td>\n",
              "      <td>(15x38-31, 15x38-32)</td>\n",
              "      <td>Nb30sim_55_36</td>\n",
              "      <td>Nb30sim</td>\n",
              "      <td>True</td>\n",
              "      <td>2</td>\n",
              "    </tr>\n",
              "    <tr>\n",
              "      <th>23</th>\n",
              "      <td>24</td>\n",
              "      <td>0.4118</td>\n",
              "      <td>0.2421</td>\n",
              "      <td>(22x46-25, 33x4-27)</td>\n",
              "      <td>Nb50sim_55_19</td>\n",
              "      <td>Nb50sim</td>\n",
              "      <td>False</td>\n",
              "      <td>2</td>\n",
              "    </tr>\n",
              "    <tr>\n",
              "      <th>25</th>\n",
              "      <td>26</td>\n",
              "      <td>1.0000</td>\n",
              "      <td>0.1861</td>\n",
              "      <td>(33x4-27,)</td>\n",
              "      <td>Nb50sim_55_49</td>\n",
              "      <td>Nb50sim</td>\n",
              "      <td>True</td>\n",
              "      <td>1</td>\n",
              "    </tr>\n",
              "    <tr>\n",
              "      <th>35</th>\n",
              "      <td>36</td>\n",
              "      <td>1.0000</td>\n",
              "      <td>0.4035</td>\n",
              "      <td>(16x41-54,)</td>\n",
              "      <td>Nb29sim_55_63</td>\n",
              "      <td>Nb29sim</td>\n",
              "      <td>True</td>\n",
              "      <td>1</td>\n",
              "    </tr>\n",
              "    <tr>\n",
              "      <th>40</th>\n",
              "      <td>41</td>\n",
              "      <td>1.0000</td>\n",
              "      <td>0.0797</td>\n",
              "      <td>(30x27-54,)</td>\n",
              "      <td>Nb30sim_55_45</td>\n",
              "      <td>Nb30sim</td>\n",
              "      <td>True</td>\n",
              "      <td>1</td>\n",
              "    </tr>\n",
              "  </tbody>\n",
              "</table>\n",
              "</div>"
            ],
            "text/plain": [
              "    FullSibshipIndex  Prob(Inc.)  Prob(Exc.)               Members  \\\n",
              "8                  9      1.0000      0.0609           (63x20-11,)   \n",
              "12                13      1.0000      0.1147            (6x10-25,)   \n",
              "14                15      1.0000      0.1570           (55x58-15,)   \n",
              "18                19      1.0000      0.1458           (24x53-20,)   \n",
              "21                22      1.0000      0.0629           (20x66-31,)   \n",
              "23                24      0.8561      0.5585  (15x38-31, 15x38-32)   \n",
              "23                24      0.4118      0.2421   (22x46-25, 33x4-27)   \n",
              "25                26      1.0000      0.1861            (33x4-27,)   \n",
              "35                36      1.0000      0.4035           (16x41-54,)   \n",
              "40                41      1.0000      0.0797           (30x27-54,)   \n",
              "\n",
              "           source Nb_index  allFullSiblings  family_size  \n",
              "8    Nb10sim_55_9  Nb10sim             True            1  \n",
              "12  Nb29sim_55_40  Nb29sim             True            1  \n",
              "14  Nb50sim_55_91  Nb50sim             True            1  \n",
              "18  Nb50sim_55_18  Nb50sim             True            1  \n",
              "21  Nb10sim_55_22  Nb10sim             True            1  \n",
              "23  Nb30sim_55_36  Nb30sim             True            2  \n",
              "23  Nb50sim_55_19  Nb50sim            False            2  \n",
              "25  Nb50sim_55_49  Nb50sim             True            1  \n",
              "35  Nb29sim_55_63  Nb29sim             True            1  \n",
              "40  Nb30sim_55_45  Nb30sim             True            1  "
            ]
          },
          "metadata": {
            "tags": []
          },
          "execution_count": 33
        }
      ]
    },
    {
      "metadata": {
        "id": "_CW4AqufTxii",
        "colab_type": "text"
      },
      "cell_type": "markdown",
      "source": [
        "*Numerical Index (No Column Header Shown)*\n",
        "* This is the DataFrame index number, you can ignore this.\n",
        "\n",
        "**FullSibshipIndex**\n",
        "* An arbitrary index assigned by Colony, probably ignore this.\n",
        "\n",
        "**Prob(Inc.)**\n",
        "* Inclusive probability from the Colony output file\n",
        "\n",
        "**Prob(Exc.)**\n",
        "* Exclusive probability from the Colony output file\n",
        "\n",
        "**Members**\n",
        "* A Python tuple containing each of the members Colony assigned to this family/row.\n",
        "\n",
        "**source**\n",
        "* This refers to the source file name, to help identify which Colony run this came from.\n",
        "\n",
        "**Nb_index**\n",
        "* This is used to group by output folder, so the multiple runs of Colony from original source data can be grouped together.\n",
        "\n",
        "**allFullSiblings**\n",
        "* This is a calculated field.  It is `True` if all of the `Members` in this row are actually full siblings.\n",
        "\n",
        "**family_size**\n",
        "* This is a calculated field.  It is the number of `Members` that Colony placed into this family/row.\n",
        "\n",
        "\n"
      ]
    },
    {
      "metadata": {
        "id": "c6jNrPQPNSwv",
        "colab_type": "text"
      },
      "cell_type": "markdown",
      "source": [
        "### Probability Distribution\n",
        "\n",
        "Across the entire data set, graph the frequency of each probability value.  Each column spans 5 percent."
      ]
    },
    {
      "metadata": {
        "id": "6JI_Z8JgNfQ4",
        "colab_type": "code",
        "colab": {
          "base_uri": "https://localhost:8080/",
          "height": 280
        },
        "outputId": "7aff613b-5240-4f0c-d819-b9f892e66d9e"
      },
      "cell_type": "code",
      "source": [
        "fig = plt.figure(figsize=(12,4))\n",
        "plt.subplot(1,2,1)\n",
        "fig = plt.hist(df['Prob(Inc.)'],bins=20)\n",
        "title = plt.title('Frequency of Prob(Inc.)')\n",
        "\n",
        "plt.subplot(1,2,2)\n",
        "fig = plt.hist(df['Prob(Exc.)'],bins=20)\n",
        "title = plt.title('Frequency of Prob(Exc.)')"
      ],
      "execution_count": 34,
      "outputs": [
        {
          "output_type": "display_data",
          "data": {
            "image/png": "[encoded data removed]",
            "text/plain": [
              "<matplotlib.figure.Figure at 0x7efed394b518>"
            ]
          },
          "metadata": {
            "tags": []
          }
        }
      ]
    },
    {
      "metadata": {
        "id": "eJKLXUVuRXEJ",
        "colab_type": "text"
      },
      "cell_type": "markdown",
      "source": [
        "Based on this, we can see that Colony has a large number of \"family/rows\" with a very high inclusive probability."
      ]
    },
    {
      "metadata": {
        "id": "fOYhfAVnRi68",
        "colab_type": "text"
      },
      "cell_type": "markdown",
      "source": [
        "### Percentage of Colony constructed families that are true Full Siblings, grouped by family size\n",
        "\n",
        "I determine the percentage of Colony constructed families that include only full siblings.  The summary is broken out by family size and data set (`Nb_index`).   I excluded families with a single member, as the sibling analysis is irrelevant to only children.\n",
        "\n",
        "It will be important to also filter this by probability thresholds!"
      ]
    },
    {
      "metadata": {
        "id": "pRj2gV1sQ7nM",
        "colab_type": "code",
        "colab": {
          "base_uri": "https://localhost:8080/",
          "height": 570
        },
        "outputId": "45700a0b-b446-4e62-f8be-b3a574dd5d98"
      },
      "cell_type": "code",
      "source": [
        "# For each data set (folder), show the percentage of constructed families \n",
        "# consisting of only full siblings, grouped by family size.\n",
        "group = ['Nb_index','family_size']\n",
        "renamer = {'allFullSiblings': '% Full Siblings'}\n",
        "\n",
        "# Only include families with more than 1 member, as \"full siblings\"\n",
        "# is an irrelevant feature of single member families.\n",
        "index = df['family_size'] > 1\n",
        "\n",
        "# For our grouped data, aggregate:\n",
        "#   full_sibs = the number of families where allFullSiblings == True\n",
        "#   fam_count = the number of families\n",
        "# Note, this works because Python True == 1, so sum() counts only True values\n",
        "full_sibs = df[index].groupby(group).sum()[['allFullSiblings']]\n",
        "fam_count = df[index].groupby(group).count()[['allFullSiblings']]\n",
        "\n",
        "# Now, construct an easy-to-read table, sorted, and display it.\n",
        "df2 = full_sibs / fam_count\n",
        "df2 = df2.rename(columns=renamer)\n",
        "df2['Full Sibling Families'] = full_sibs\n",
        "df2['Total Families'] = fam_count\n",
        "df2.sort_index()"
      ],
      "execution_count": 35,
      "outputs": [
        {
          "output_type": "execute_result",
          "data": {
            "text/html": [
              "<div>\n",
              "<style scoped>\n",
              "    .dataframe tbody tr th:only-of-type {\n",
              "        vertical-align: middle;\n",
              "    }\n",
              "\n",
              "    .dataframe tbody tr th {\n",
              "        vertical-align: top;\n",
              "    }\n",
              "\n",
              "    .dataframe thead th {\n",
              "        text-align: right;\n",
              "    }\n",
              "</style>\n",
              "<table border=\"1\" class=\"dataframe\">\n",
              "  <thead>\n",
              "    <tr style=\"text-align: right;\">\n",
              "      <th></th>\n",
              "      <th></th>\n",
              "      <th>% Full Siblings</th>\n",
              "      <th>Full Sibling Families</th>\n",
              "      <th>Total Families</th>\n",
              "    </tr>\n",
              "    <tr>\n",
              "      <th>Nb_index</th>\n",
              "      <th>family_size</th>\n",
              "      <th></th>\n",
              "      <th></th>\n",
              "      <th></th>\n",
              "    </tr>\n",
              "  </thead>\n",
              "  <tbody>\n",
              "    <tr>\n",
              "      <th rowspan=\"4\" valign=\"top\">Nb10sim</th>\n",
              "      <th>2</th>\n",
              "      <td>0.921387</td>\n",
              "      <td>797.0</td>\n",
              "      <td>865</td>\n",
              "    </tr>\n",
              "    <tr>\n",
              "      <th>3</th>\n",
              "      <td>0.569231</td>\n",
              "      <td>185.0</td>\n",
              "      <td>325</td>\n",
              "    </tr>\n",
              "    <tr>\n",
              "      <th>4</th>\n",
              "      <td>0.727749</td>\n",
              "      <td>139.0</td>\n",
              "      <td>191</td>\n",
              "    </tr>\n",
              "    <tr>\n",
              "      <th>5</th>\n",
              "      <td>1.000000</td>\n",
              "      <td>8.0</td>\n",
              "      <td>8</td>\n",
              "    </tr>\n",
              "    <tr>\n",
              "      <th rowspan=\"4\" valign=\"top\">Nb29sim</th>\n",
              "      <th>2</th>\n",
              "      <td>0.850168</td>\n",
              "      <td>505.0</td>\n",
              "      <td>594</td>\n",
              "    </tr>\n",
              "    <tr>\n",
              "      <th>3</th>\n",
              "      <td>0.813121</td>\n",
              "      <td>409.0</td>\n",
              "      <td>503</td>\n",
              "    </tr>\n",
              "    <tr>\n",
              "      <th>4</th>\n",
              "      <td>0.985915</td>\n",
              "      <td>70.0</td>\n",
              "      <td>71</td>\n",
              "    </tr>\n",
              "    <tr>\n",
              "      <th>5</th>\n",
              "      <td>1.000000</td>\n",
              "      <td>27.0</td>\n",
              "      <td>27</td>\n",
              "    </tr>\n",
              "    <tr>\n",
              "      <th rowspan=\"3\" valign=\"top\">Nb30sim</th>\n",
              "      <th>2</th>\n",
              "      <td>1.000000</td>\n",
              "      <td>1031.0</td>\n",
              "      <td>1031</td>\n",
              "    </tr>\n",
              "    <tr>\n",
              "      <th>3</th>\n",
              "      <td>1.000000</td>\n",
              "      <td>158.0</td>\n",
              "      <td>158</td>\n",
              "    </tr>\n",
              "    <tr>\n",
              "      <th>4</th>\n",
              "      <td>1.000000</td>\n",
              "      <td>2.0</td>\n",
              "      <td>2</td>\n",
              "    </tr>\n",
              "    <tr>\n",
              "      <th rowspan=\"3\" valign=\"top\">Nb31sim</th>\n",
              "      <th>2</th>\n",
              "      <td>1.000000</td>\n",
              "      <td>1038.0</td>\n",
              "      <td>1038</td>\n",
              "    </tr>\n",
              "    <tr>\n",
              "      <th>3</th>\n",
              "      <td>1.000000</td>\n",
              "      <td>153.0</td>\n",
              "      <td>153</td>\n",
              "    </tr>\n",
              "    <tr>\n",
              "      <th>4</th>\n",
              "      <td>1.000000</td>\n",
              "      <td>4.0</td>\n",
              "      <td>4</td>\n",
              "    </tr>\n",
              "    <tr>\n",
              "      <th rowspan=\"2\" valign=\"top\">Nb50sim</th>\n",
              "      <th>2</th>\n",
              "      <td>0.061654</td>\n",
              "      <td>41.0</td>\n",
              "      <td>665</td>\n",
              "    </tr>\n",
              "    <tr>\n",
              "      <th>3</th>\n",
              "      <td>0.000000</td>\n",
              "      <td>0.0</td>\n",
              "      <td>37</td>\n",
              "    </tr>\n",
              "  </tbody>\n",
              "</table>\n",
              "</div>"
            ],
            "text/plain": [
              "                      % Full Siblings  Full Sibling Families  Total Families\n",
              "Nb_index family_size                                                        \n",
              "Nb10sim  2                   0.921387                  797.0             865\n",
              "         3                   0.569231                  185.0             325\n",
              "         4                   0.727749                  139.0             191\n",
              "         5                   1.000000                    8.0               8\n",
              "Nb29sim  2                   0.850168                  505.0             594\n",
              "         3                   0.813121                  409.0             503\n",
              "         4                   0.985915                   70.0              71\n",
              "         5                   1.000000                   27.0              27\n",
              "Nb30sim  2                   1.000000                 1031.0            1031\n",
              "         3                   1.000000                  158.0             158\n",
              "         4                   1.000000                    2.0               2\n",
              "Nb31sim  2                   1.000000                 1038.0            1038\n",
              "         3                   1.000000                  153.0             153\n",
              "         4                   1.000000                    4.0               4\n",
              "Nb50sim  2                   0.061654                   41.0             665\n",
              "         3                   0.000000                    0.0              37"
            ]
          },
          "metadata": {
            "tags": []
          },
          "execution_count": 35
        }
      ]
    },
    {
      "metadata": {
        "id": "-epaLMr1SCeX",
        "colab_type": "text"
      },
      "cell_type": "markdown",
      "source": [
        "### Determine if same full-sibling families are replicated over multiple runs of Colony on the same source data set\n",
        "\n",
        "From the project sponsor:\n",
        "\n",
        ">Our goal with this new application is to see if the same full-sibling families are replicated over multiple runs of the Colony. Therefore, we would need to identify the parent#1xparent#2-ID# values that [are assigned to the same family] and see if those individuals are found in the same [family] in the other 99 replicate outputs.\n",
        "\n",
        "\n",
        "To summarize: We pivot on our dataset to count the number of times the same exact family occurs, across multiple runs of Colony.\n",
        "\n",
        "*Note: A family of full-siblings \"AB\" is counted only when the exact set \"AB\" occurs.  If \"ABC\" occurs, that is not added to the Count for family \"AB\".*\n"
      ]
    },
    {
      "metadata": {
        "id": "OCM_yH0iSV2C",
        "colab_type": "code",
        "colab": {
          "base_uri": "https://localhost:8080/",
          "height": 355
        },
        "outputId": "f0085ae0-541a-4b4e-97ff-35b54f73f4f3"
      },
      "cell_type": "code",
      "source": [
        "# Count the number of reoccurrence of identical families in multiple runs of the same data set.\n",
        "df2 = df[(df['allFullSiblings']) & (df['family_size'] > 1)].groupby(['Nb_index','Members']).size().reset_index(name='Occurrence')\n",
        "\n",
        "# Sort by data set and then by Count, then clean up the index.\n",
        "df3 = df2.sort_values(by=['Nb_index','Occurrence'],ascending=[True,False]).reset_index().drop(columns='index')\n",
        "\n",
        "# Add a column that shows the number of Colony runs per data set, and then calculate percentage.\n",
        "# Calculate the number of files that were loaded per folder\n",
        "nb_index_file_count = df.groupby(['Nb_index']).source.nunique()\n",
        "\n",
        "df3['Total Runs'] = df3['Nb_index'].apply(lambda x: nb_index_file_count[x])\n",
        "df3['% Exact Family Occurs'] = df3['Occurrence'] / df3['Total Runs']\n",
        "\n",
        "# Display the first 10 results\n",
        "df3.head(10)"
      ],
      "execution_count": 36,
      "outputs": [
        {
          "output_type": "execute_result",
          "data": {
            "text/html": [
              "<div>\n",
              "<style scoped>\n",
              "    .dataframe tbody tr th:only-of-type {\n",
              "        vertical-align: middle;\n",
              "    }\n",
              "\n",
              "    .dataframe tbody tr th {\n",
              "        vertical-align: top;\n",
              "    }\n",
              "\n",
              "    .dataframe thead th {\n",
              "        text-align: right;\n",
              "    }\n",
              "</style>\n",
              "<table border=\"1\" class=\"dataframe\">\n",
              "  <thead>\n",
              "    <tr style=\"text-align: right;\">\n",
              "      <th></th>\n",
              "      <th>Nb_index</th>\n",
              "      <th>Members</th>\n",
              "      <th>Occurrence</th>\n",
              "      <th>Total Runs</th>\n",
              "      <th>% Exact Family Occurs</th>\n",
              "    </tr>\n",
              "  </thead>\n",
              "  <tbody>\n",
              "    <tr>\n",
              "      <th>0</th>\n",
              "      <td>Nb10sim</td>\n",
              "      <td>(63x20-15, 63x20-9)</td>\n",
              "      <td>100</td>\n",
              "      <td>100</td>\n",
              "      <td>1.00</td>\n",
              "    </tr>\n",
              "    <tr>\n",
              "      <th>1</th>\n",
              "      <td>Nb10sim</td>\n",
              "      <td>(20x33-1, 20x33-6)</td>\n",
              "      <td>95</td>\n",
              "      <td>100</td>\n",
              "      <td>0.95</td>\n",
              "    </tr>\n",
              "    <tr>\n",
              "      <th>2</th>\n",
              "      <td>Nb10sim</td>\n",
              "      <td>(63x20-12, 63x20-16)</td>\n",
              "      <td>95</td>\n",
              "      <td>100</td>\n",
              "      <td>0.95</td>\n",
              "    </tr>\n",
              "    <tr>\n",
              "      <th>3</th>\n",
              "      <td>Nb10sim</td>\n",
              "      <td>(20x33-5, 20x33-8)</td>\n",
              "      <td>79</td>\n",
              "      <td>100</td>\n",
              "      <td>0.79</td>\n",
              "    </tr>\n",
              "    <tr>\n",
              "      <th>4</th>\n",
              "      <td>Nb10sim</td>\n",
              "      <td>(33x4-43, 33x4-47, 33x4-48)</td>\n",
              "      <td>79</td>\n",
              "      <td>100</td>\n",
              "      <td>0.79</td>\n",
              "    </tr>\n",
              "    <tr>\n",
              "      <th>5</th>\n",
              "      <td>Nb10sim</td>\n",
              "      <td>(63x47-49, 63x47-53, 63x47-54, 63x47-55)</td>\n",
              "      <td>79</td>\n",
              "      <td>100</td>\n",
              "      <td>0.79</td>\n",
              "    </tr>\n",
              "    <tr>\n",
              "      <th>6</th>\n",
              "      <td>Nb10sim</td>\n",
              "      <td>(20x66-26, 20x66-28)</td>\n",
              "      <td>58</td>\n",
              "      <td>100</td>\n",
              "      <td>0.58</td>\n",
              "    </tr>\n",
              "    <tr>\n",
              "      <th>7</th>\n",
              "      <td>Nb10sim</td>\n",
              "      <td>(20x66-27, 20x66-29, 20x66-32)</td>\n",
              "      <td>58</td>\n",
              "      <td>100</td>\n",
              "      <td>0.58</td>\n",
              "    </tr>\n",
              "    <tr>\n",
              "      <th>8</th>\n",
              "      <td>Nb10sim</td>\n",
              "      <td>(33x4-44, 33x4-45)</td>\n",
              "      <td>58</td>\n",
              "      <td>100</td>\n",
              "      <td>0.58</td>\n",
              "    </tr>\n",
              "    <tr>\n",
              "      <th>9</th>\n",
              "      <td>Nb10sim</td>\n",
              "      <td>(14x66-33, 14x66-39)</td>\n",
              "      <td>42</td>\n",
              "      <td>100</td>\n",
              "      <td>0.42</td>\n",
              "    </tr>\n",
              "  </tbody>\n",
              "</table>\n",
              "</div>"
            ],
            "text/plain": [
              "  Nb_index                                   Members  Occurrence  Total Runs  \\\n",
              "0  Nb10sim                       (63x20-15, 63x20-9)         100         100   \n",
              "1  Nb10sim                        (20x33-1, 20x33-6)          95         100   \n",
              "2  Nb10sim                      (63x20-12, 63x20-16)          95         100   \n",
              "3  Nb10sim                        (20x33-5, 20x33-8)          79         100   \n",
              "4  Nb10sim               (33x4-43, 33x4-47, 33x4-48)          79         100   \n",
              "5  Nb10sim  (63x47-49, 63x47-53, 63x47-54, 63x47-55)          79         100   \n",
              "6  Nb10sim                      (20x66-26, 20x66-28)          58         100   \n",
              "7  Nb10sim            (20x66-27, 20x66-29, 20x66-32)          58         100   \n",
              "8  Nb10sim                        (33x4-44, 33x4-45)          58         100   \n",
              "9  Nb10sim                      (14x66-33, 14x66-39)          42         100   \n",
              "\n",
              "   % Exact Family Occurs  \n",
              "0                   1.00  \n",
              "1                   0.95  \n",
              "2                   0.95  \n",
              "3                   0.79  \n",
              "4                   0.79  \n",
              "5                   0.79  \n",
              "6                   0.58  \n",
              "7                   0.58  \n",
              "8                   0.58  \n",
              "9                   0.42  "
            ]
          },
          "metadata": {
            "tags": []
          },
          "execution_count": 36
        }
      ]
    },
    {
      "metadata": {
        "id": "b_HCdaISYivb",
        "colab_type": "text"
      },
      "cell_type": "markdown",
      "source": [
        "Here we can see that for the collection of Colony runs in the `Nb10sim` group:\n",
        "\n",
        "* There were 100 total runs in this group (100 text files)\n",
        "* In the first 10 rows (displayed), some families occur 100% of the time, some less than 50% of the time\n",
        "* For example, in the second row, the exact family `23x33-1, 23x33-6` is found in 95 out of 100 Colony files for this group.\n",
        "\n",
        "**The most recently generated complete set is available at [colony-percent-exact-family-occurs.csv](https://drive.google.com/open?id=18bSa9GkiNuCQRgIsWZ7GY0XCgsSlzjN7)**\n",
        "\n"
      ]
    },
    {
      "metadata": {
        "id": "8eng57Vra4YB",
        "colab_type": "code",
        "colab": {}
      },
      "cell_type": "code",
      "source": [
        "# Save the results in a file\n",
        "df3.to_csv('colony-percent-exact-family-occurs.csv')\n",
        "from google.colab import files\n",
        "files.download('colony-percent-exact-family-occurs.csv')"
      ],
      "execution_count": 0,
      "outputs": []
    },
    {
      "metadata": {
        "id": "2UVDiYQ5SY8f",
        "colab_type": "code",
        "colab": {
          "base_uri": "https://localhost:8080/",
          "height": 153
        },
        "outputId": "cfa952bf-c247-49f5-c2be-29599656f9d7"
      },
      "cell_type": "code",
      "source": [
        "plt.figure(figsize=(14,2))\n",
        "\n",
        "sets = df3.Nb_index.unique()\n",
        "for i, nbindex in enumerate(sets):\n",
        "    plt.subplot(len(sets)/5, 5, i+1)\n",
        "    fig = plt.hist( df3[df3['Nb_index'] == nbindex]['% Exact Family Occurs'], bins=20)\n",
        "    plt.xlabel('Exact Family Found in % of Runs')\n",
        "    plt.ylabel('# Families')\n",
        "    plt.xlim(0.0,1.0)\n",
        "    plt.ylim(0.0,15.0)\n",
        "    plt.title('Data Set: %s' % nbindex)\n",
        "    \n",
        "plt.tight_layout()"
      ],
      "execution_count": 38,
      "outputs": [
        {
          "output_type": "display_data",
          "data": {
            "image/png": "[encoded data removed]",
            "text/plain": [
              "<matplotlib.figure.Figure at 0x7efed33ffe48>"
            ]
          },
          "metadata": {
            "tags": []
          }
        }
      ]
    },
    {
      "metadata": {
        "id": "XfvNCwW-SeC7",
        "colab_type": "code",
        "colab": {
          "base_uri": "https://localhost:8080/",
          "height": 153
        },
        "outputId": "efe30617-8be5-4b96-b01c-f9b45912dca7"
      },
      "cell_type": "code",
      "source": [
        "plt.figure(figsize=(14,2))\n",
        "\n",
        "sets = df3.Nb_index.unique()\n",
        "for i, nbindex in enumerate(sets):\n",
        "    plt.subplot(len(sets)/5, 5, i+1)\n",
        "    fig = plt.hist( df3[df3['Nb_index'] == nbindex]['Occurrence'], bins=20)\n",
        "    plt.xlabel('Exact Family Found in # of Runs')\n",
        "    plt.ylabel('# Families')\n",
        "    plt.xlim(0.0,100)\n",
        "    plt.ylim(0.0,15.0)\n",
        "    plt.title('Data Set: %s' % nbindex)\n",
        "    \n",
        "plt.tight_layout()"
      ],
      "execution_count": 39,
      "outputs": [
        {
          "output_type": "display_data",
          "data": {
            "image/png": "[encoded data removed]",
            "text/plain": [
              "<matplotlib.figure.Figure at 0x7efed3b86e48>"
            ]
          },
          "metadata": {
            "tags": []
          }
        }
      ]
    },
    {
      "metadata": {
        "id": "87RWq5YKTc_Q",
        "colab_type": "text"
      },
      "cell_type": "markdown",
      "source": [
        "The next step here is to plot these histograms with filtered data, for various values of probability thresholds.\n",
        "\n",
        "Specifically, exclude all rows in the dataset below a particular threshold, plot the series of graphs for that data, and loop until all thresholds have been visualized."
      ]
    },
    {
      "metadata": {
        "id": "y251UpC8byIG",
        "colab_type": "text"
      },
      "cell_type": "markdown",
      "source": [
        "#### And, again with Thresholds\n",
        "\n",
        "Filter by inclusive probability, then exclusive probability."
      ]
    },
    {
      "metadata": {
        "id": "FXlQz2eMb22x",
        "colab_type": "code",
        "colab": {
          "base_uri": "https://localhost:8080/",
          "height": 784
        },
        "outputId": "0b60b9f1-4a5a-404b-a6d9-4a58c1b56e67"
      },
      "cell_type": "code",
      "source": [
        "for threshold in [0.95, 0.9, 0.8, 0.7, 0.5]:\n",
        "  # Count the number of reoccurrence of identical families in multiple runs of the same data set.\n",
        "  df2 = df[(df['allFullSiblings']) & (df['family_size'] > 1) & (df['Prob(Inc.)'] > threshold)].groupby(['Nb_index','Members']).size().reset_index(name='Occurrence')\n",
        "\n",
        "  # Sort by data set and then by Count, then clean up the index.\n",
        "  df3 = df2.sort_values(by=['Nb_index','Occurrence'],ascending=[True,False]).reset_index().drop(columns='index')\n",
        "\n",
        "  # Add a column that shows the number of Colony runs per data set, and then calculate percentage.\n",
        "  # Calculate the number of files that were loaded per folder\n",
        "  nb_index_file_count = df.groupby(['Nb_index']).source.nunique()\n",
        "\n",
        "  df3['Total Runs'] = df3['Nb_index'].apply(lambda x: nb_index_file_count[x])\n",
        "  df3['% Exact Family Occurs'] = df3['Occurrence'] / df3['Total Runs']\n",
        "\n",
        "  plt.figure(figsize=(14,2))\n",
        "\n",
        "  print(\"With Inclusive Probability > %s\" % threshold)\n",
        "  sets = df3.Nb_index.unique()\n",
        "  for i, nbindex in enumerate(sets):\n",
        "      plt.subplot(len(sets)/4, 5, i+1)\n",
        "      fig = plt.hist( df3[df3['Nb_index'] == nbindex]['Occurrence'], bins=20)\n",
        "      plt.xlabel('Exact Family Found in # of Runs')\n",
        "      plt.ylabel('# Families')\n",
        "      plt.xlim(0.0,100)\n",
        "      plt.ylim(0.0,15.0)\n",
        "      plt.title('Data Set: %s' % nbindex)\n",
        "\n",
        "  plt.tight_layout()\n",
        "  plt.show()"
      ],
      "execution_count": 53,
      "outputs": [
        {
          "output_type": "stream",
          "text": [
            "With Inclusive Probability > 0.95\n"
          ],
          "name": "stdout"
        },
        {
          "output_type": "display_data",
          "data": {
            "image/png": "[encoded data removed]",
            "text/plain": [
              "<matplotlib.figure.Figure at 0x7efed2fba278>"
            ]
          },
          "metadata": {
            "tags": []
          }
        },
        {
          "output_type": "stream",
          "text": [
            "With Inclusive Probability > 0.9\n"
          ],
          "name": "stdout"
        },
        {
          "output_type": "display_data",
          "data": {
            "image/png": "[encoded data removed]",
            "text/plain": [
              "<matplotlib.figure.Figure at 0x7efed2fba4e0>"
            ]
          },
          "metadata": {
            "tags": []
          }
        },
        {
          "output_type": "stream",
          "text": [
            "With Inclusive Probability > 0.8\n"
          ],
          "name": "stdout"
        },
        {
          "output_type": "display_data",
          "data": {
            "image/png": "[encoded data removed]",
            "text/plain": [
              "<matplotlib.figure.Figure at 0x7efed34a7278>"
            ]
          },
          "metadata": {
            "tags": []
          }
        },
        {
          "output_type": "stream",
          "text": [
            "With Inclusive Probability > 0.7\n"
          ],
          "name": "stdout"
        },
        {
          "output_type": "display_data",
          "data": {
            "image/png": "[encoded data removed]",
            "text/plain": [
              "<matplotlib.figure.Figure at 0x7efed2e14be0>"
            ]
          },
          "metadata": {
            "tags": []
          }
        },
        {
          "output_type": "stream",
          "text": [
            "With Inclusive Probability > 0.5\n"
          ],
          "name": "stdout"
        },
        {
          "output_type": "display_data",
          "data": {
            "image/png": "[encoded data removed]",
            "text/plain": [
              "<matplotlib.figure.Figure at 0x7efed3bc3e80>"
            ]
          },
          "metadata": {
            "tags": []
          }
        }
      ]
    },
    {
      "metadata": {
        "id": "n-JmuGfxFmKr",
        "colab_type": "code",
        "colab": {
          "base_uri": "https://localhost:8080/",
          "height": 784
        },
        "outputId": "7c1b6cc6-45f9-45a8-9534-e4b117811527"
      },
      "cell_type": "code",
      "source": [
        "for threshold in [0.5, 0.4, 0.3, 0.2, 0.1]:\n",
        "  # Count the number of reoccurrence of identical families in multiple runs of the same data set.\n",
        "  df2 = df[(df['allFullSiblings']) & (df['family_size'] > 1) & (df['Prob(Exc.)'] > threshold)].groupby(['Nb_index','Members']).size().reset_index(name='Occurrence')\n",
        "\n",
        "  # Sort by data set and then by Count, then clean up the index.\n",
        "  df3 = df2.sort_values(by=['Nb_index','Occurrence'],ascending=[True,False]).reset_index().drop(columns='index')\n",
        "\n",
        "  # Add a column that shows the number of Colony runs per data set, and then calculate percentage.\n",
        "  # Calculate the number of files that were loaded per folder\n",
        "  nb_index_file_count = df.groupby(['Nb_index']).source.nunique()\n",
        "\n",
        "  df3['Total Runs'] = df3['Nb_index'].apply(lambda x: nb_index_file_count[x])\n",
        "  df3['% Exact Family Occurs'] = df3['Occurrence'] / df3['Total Runs']\n",
        "\n",
        "  plt.figure(figsize=(14,2))\n",
        "\n",
        "  print(\"With Exclusive Probability > %s\" % threshold)\n",
        "  sets = df3.Nb_index.unique()\n",
        "  for i, nbindex in enumerate(sets):\n",
        "      plt.subplot(len(sets)/3, 5, i+1)\n",
        "      fig = plt.hist( df3[df3['Nb_index'] == nbindex]['Occurrence'], bins=20)\n",
        "      plt.xlabel('Exact Family Found in # of Runs')\n",
        "      plt.ylabel('# Families')\n",
        "      plt.xlim(0.0,100)\n",
        "      plt.ylim(0.0,15.0)\n",
        "      plt.title('Data Set: %s' % nbindex)\n",
        "\n",
        "  plt.tight_layout()\n",
        "  plt.show()"
      ],
      "execution_count": 57,
      "outputs": [
        {
          "output_type": "stream",
          "text": [
            "With Exclusive Probability > 0.5\n"
          ],
          "name": "stdout"
        },
        {
          "output_type": "display_data",
          "data": {
            "image/png": "[encoded data removed]",
            "text/plain": [
              "<matplotlib.figure.Figure at 0x7efed3596710>"
            ]
          },
          "metadata": {
            "tags": []
          }
        },
        {
          "output_type": "stream",
          "text": [
            "With Exclusive Probability > 0.4\n"
          ],
          "name": "stdout"
        },
        {
          "output_type": "display_data",
          "data": {
            "image/png": "[encoded data removed]",
            "text/plain": [
              "<matplotlib.figure.Figure at 0x7efed34789e8>"
            ]
          },
          "metadata": {
            "tags": []
          }
        },
        {
          "output_type": "stream",
          "text": [
            "With Exclusive Probability > 0.3\n"
          ],
          "name": "stdout"
        },
        {
          "output_type": "display_data",
          "data": {
            "image/png": "[encoded data removed]",
            "text/plain": [
              "<matplotlib.figure.Figure at 0x7efed34b3e48>"
            ]
          },
          "metadata": {
            "tags": []
          }
        },
        {
          "output_type": "stream",
          "text": [
            "With Exclusive Probability > 0.2\n"
          ],
          "name": "stdout"
        },
        {
          "output_type": "display_data",
          "data": {
            "image/png": "[encoded data removed]",
            "text/plain": [
              "<matplotlib.figure.Figure at 0x7efed31748d0>"
            ]
          },
          "metadata": {
            "tags": []
          }
        },
        {
          "output_type": "stream",
          "text": [
            "With Exclusive Probability > 0.1\n"
          ],
          "name": "stdout"
        },
        {
          "output_type": "display_data",
          "data": {
            "image/png": "[encoded data removed]",
            "text/plain": [
              "<matplotlib.figure.Figure at 0x7efed30f8630>"
            ]
          },
          "metadata": {
            "tags": []
          }
        }
      ]
    },
    {
      "metadata": {
        "id": "8aZWlRrtSiJk",
        "colab_type": "text"
      },
      "cell_type": "markdown",
      "source": [
        "#### and with subset matching... (todo)\n",
        "I think the **next steps** here are to write a function that counts based on subset matching.  So:\n",
        "\n",
        "`f(thisFamily, otherFamily) if thisFamily is a subset of otherFamily return 1 else return 0`\n",
        "\n",
        "Then, for each row, sum f() over all the otherFamilies in the `Nb_index` dataset and save that as a calculated column."
      ]
    },
    {
      "metadata": {
        "id": "wp21hhY_Siot",
        "colab_type": "code",
        "colab": {}
      },
      "cell_type": "code",
      "source": [
        ""
      ],
      "execution_count": 0,
      "outputs": []
    }
  ]
}